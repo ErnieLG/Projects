{
 "cells": [
  {
   "cell_type": "markdown",
   "metadata": {},
   "source": [
    "## Loading libraries"
   ]
  },
  {
   "cell_type": "code",
   "execution_count": 126,
   "metadata": {},
   "outputs": [
    {
     "data": {
      "text/plain": [
       "'en_US.utf-8'"
      ]
     },
     "execution_count": 126,
     "metadata": {},
     "output_type": "execute_result"
    }
   ],
   "source": [
    "import pandas as pd\n",
    "import numpy as np\n",
    "import re\n",
    "import seaborn as sns\n",
    "import time\n",
    "import lightgbm as lgbm\n",
    "from pathlib import Path\n",
    "import pickle\n",
    "from catboost import CatBoostClassifier, cv, Pool\n",
    "import scikitplot as skplt\n",
    "from hyperopt import tpe, STATUS_OK, Trials, hp, fmin, tpe, partial\n",
    "import plotly.graph_objects as go\n",
    "\n",
    "import itertools\n",
    "from itertools import combinations\n",
    "\n",
    "import scipy as sp\n",
    "from scipy.stats import pearsonr, chi2_contingency\n",
    "\n",
    "import matplotlib as mpl\n",
    "import matplotlib.pyplot as plt\n",
    "import matplotlib.cm as cm\n",
    "from matplotlib.colors import ListedColormap\n",
    "\n",
    "from datetime import datetime\n",
    "from dateutil import relativedelta\n",
    "\n",
    "from IPython.display import display\n",
    "pd.options.display.max_columns = None\n",
    "pd.options.display.max_colwidth = None\n",
    "pd.options.display.max_rows = None\n",
    "\n",
    "import statsmodels.api as sm \n",
    "from statsmodels.graphics.api import abline_plot # For visualling evaluating predictions.\n",
    "from statsmodels.stats.proportion import proportion_confint\n",
    "\n",
    "import warnings # For handling error messages.\n",
    "warnings.simplefilter(action=\"ignore\", category=FutureWarning)\n",
    "warnings.filterwarnings('ignore')\n",
    "\n",
    "import sklearn.metrics as met\n",
    "from sklearn import linear_model, preprocessing, model_selection, svm, datasets\n",
    "from sklearn.ensemble import RandomForestClassifier, AdaBoostClassifier, GradientBoostingClassifier\n",
    "from sklearn.feature_selection import SelectFromModel, SelectKBest, chi2, RFE\n",
    "from sklearn.linear_model import LassoCV, LogisticRegression, Lasso\n",
    "from sklearn.metrics import plot_confusion_matrix, auc, confusion_matrix, classification_report, accuracy_score, roc_curve, roc_auc_score, plot_roc_curve\n",
    "from sklearn.model_selection import train_test_split, cross_val_score, GridSearchCV, KFold\n",
    "from sklearn.neighbors import KNeighborsClassifier \n",
    "from sklearn.pipeline import Pipeline\n",
    "from sklearn.preprocessing import scale, StandardScaler, LabelEncoder, MinMaxScaler, Binarizer\n",
    "from sklearn.svm import SVC\n",
    "from sklearn.tree import DecisionTreeClassifier\n",
    "\n",
    "from bayes_opt import BayesianOptimization\n",
    "from bayes_opt.logger import JSONLogger\n",
    "from bayes_opt.event import Events\n",
    "from bayes_opt.util import load_logs\n",
    "\n",
    "import locale\n",
    "locale.setlocale(locale.LC_ALL, \"en_US.utf-8\")"
   ]
  },
  {
   "cell_type": "markdown",
   "metadata": {},
   "source": [
    "## Loading dataset"
   ]
  },
  {
   "cell_type": "code",
   "execution_count": 2,
   "metadata": {},
   "outputs": [],
   "source": [
    "df = pd.read_csv('df2.csv', index_col='id') \n",
    "dummies = pd.read_csv('dummies2.csv', index_col='id') "
   ]
  },
  {
   "cell_type": "markdown",
   "metadata": {},
   "source": [
    "## Modeling"
   ]
  },
  {
   "cell_type": "markdown",
   "metadata": {},
   "source": [
    "### Dropping paid off status, datetime objs, and letter grades."
   ]
  },
  {
   "cell_type": "code",
   "execution_count": 3,
   "metadata": {},
   "outputs": [],
   "source": [
    "dummies.drop(['loan_sta_Fully Paid', 'issue_d', 'earliest_cr_line','gra_A', 'gra_B','gra_C','gra_D','gra_E','gra_F','gra_G'], axis=1,inplace=True)\n",
    "X = dummies.drop('loan_sta_Charged Off', axis=1)\n",
    "y = dummies['loan_sta_Charged Off'].values \n",
    "X_train, X_test, y_train, y_test = train_test_split(X, y, test_size=.2, random_state=1)\n",
    "# build scaler based on training data and apply it to test data to then also scale the test data\n",
    "# scaler = StandardScaler().fit(X_train)\n",
    "# X_train_scaled = scaler.transform(X_train)\n",
    "# X_test_scaled = scaler.transform(X_test)"
   ]
  },
  {
   "cell_type": "markdown",
   "metadata": {},
   "source": [
    "### Testing different LightGBM models using Bayesian Boosting\n",
    "#### gbdt: traditional Gradient Boosting Decision Tree\n",
    "#### rf: Random Forest\n",
    "#### dart: Dropouts meet Multiple Additive Regression Trees\n",
    "#### goss: Gradient-based One-Side Sampling"
   ]
  },
  {
   "cell_type": "code",
   "execution_count": 4,
   "metadata": {},
   "outputs": [],
   "source": [
    "categorical_features = ['pur_car','pur_credit_card','pur_debt_consolidation','pur_educational','pur_home_improvement','pur_house','pur_major_purchase','pur_medical','pur_moving','pur_other','pur_renewable_energy','pur_small_business','pur_vacation','pur_wedding','hom_own_ANY','hom_own_MORTGAGE','hom_own_NONE','hom_own_OTHER','hom_own_OWN','hom_own_RENT','ver_sta_Not Verified','ver_sta_Source Verified','ver_sta_Verified']"
   ]
  },
  {
   "cell_type": "code",
   "execution_count": 5,
   "metadata": {
    "scrolled": false
   },
   "outputs": [
    {
     "name": "stdout",
     "output_type": "stream",
     "text": [
      "|   iter    |  target   | lambda_l1 | lambda_l2 | learni... | max_depth | min_da... | num_le... |\n",
      "-------------------------------------------------------------------------------------------------\n",
      "| \u001b[0m 1       \u001b[0m | \u001b[0m 0.7103  \u001b[0m | \u001b[0m 0.1999  \u001b[0m | \u001b[0m 0.6578  \u001b[0m | \u001b[0m 0.05832 \u001b[0m | \u001b[0m 2.803e+0\u001b[0m | \u001b[0m 9.166e+0\u001b[0m | \u001b[0m 4.268e+0\u001b[0m |\n",
      "| \u001b[95m 2       \u001b[0m | \u001b[95m 0.7198  \u001b[0m | \u001b[95m 0.8888  \u001b[0m | \u001b[95m 0.5412  \u001b[0m | \u001b[95m 0.2599  \u001b[0m | \u001b[95m 5.583e+0\u001b[0m | \u001b[95m 8.186e+0\u001b[0m | \u001b[95m 1.127e+0\u001b[0m |\n",
      "| \u001b[95m 3       \u001b[0m | \u001b[95m 0.7221  \u001b[0m | \u001b[95m 0.169   \u001b[0m | \u001b[95m 0.6681  \u001b[0m | \u001b[95m 0.3629  \u001b[0m | \u001b[95m 1.8e+04 \u001b[0m | \u001b[95m 6.51e+04\u001b[0m | \u001b[95m 9.127e+0\u001b[0m |\n",
      "| \u001b[0m 4       \u001b[0m | \u001b[0m 0.7192  \u001b[0m | \u001b[0m 0.2772  \u001b[0m | \u001b[0m 0.7179  \u001b[0m | \u001b[0m 0.3208  \u001b[0m | \u001b[0m 8.329e+0\u001b[0m | \u001b[0m 9.28e+04\u001b[0m | \u001b[0m 4.432e+0\u001b[0m |\n",
      "=================================================================================================\n"
     ]
    }
   ],
   "source": [
    "def lgb_eval(num_leaves, lambda_l2, lambda_l1, max_depth, min_data_in_leaf, learning_rate):\n",
    "    params = {\n",
    "        \"objective\" : \"binary\",\n",
    "        'boosting': 'gbdt',\n",
    "        \"metric\" : \"auc\", \n",
    "        'is_unbalance': True,\n",
    "        \"num_threads\" : 6,\n",
    "        \"num_leaves\" : int(num_leaves),\n",
    "        \"lambda_l2\" : lambda_l2,\n",
    "        \"lambda_l1\" : lambda_l1,\n",
    "        'max_depth': int(max_depth),\n",
    "        'min_data_in_leaf': int(min_data_in_leaf),\n",
    "        \"learning_rate\" : learning_rate,\n",
    "        'feature_fraction': 1,\n",
    "        \"verbosity\" : -1,\n",
    "        'histogram_pool_size': 50000,\n",
    "        'num_boost_round': 100,\n",
    "        'early_stopping_rounds': 100\n",
    "    }\n",
    "    lgtrain = lgbm.Dataset(X_train, y_train,categorical_feature=categorical_features)\n",
    "    cv_result = lgbm.cv(params,\n",
    "                       lgtrain,\n",
    "                       stratified=True,\n",
    "                       nfold=2)\n",
    "    return cv_result['auc-mean'][-1]\n",
    "\n",
    "lgbBO0 = BayesianOptimization(lgb_eval, {\n",
    "                                        \"num_leaves\" : (10, 100000),\n",
    "                                        \"lambda_l2\" : (.1, 1),\n",
    "                                        \"lambda_l1\" : (.1, 1),\n",
    "                                        'max_depth': (10,100000),\n",
    "                                        'min_data_in_leaf': (10, 100000), \n",
    "                                        \"learning_rate\" : (.001,.5)\n",
    "#                                         'feature_fraction': (.1,1)\n",
    "                                         })\n",
    "\n",
    "# logger = JSONLogger(path=\"./log0.json\")\n",
    "# lgbBO0.subscribe(Events.OPTIMIZATION_STEP, logger)\n",
    "\n",
    "lgbBO0.maximize(init_points=2, n_iter=2)"
   ]
  },
  {
   "cell_type": "code",
   "execution_count": 7,
   "metadata": {
    "scrolled": true
   },
   "outputs": [
    {
     "name": "stdout",
     "output_type": "stream",
     "text": [
      "|   iter    |  target   | baggin... | lambda_l1 | lambda_l2 | learni... | max_depth | min_da... | num_le... |\n",
      "-------------------------------------------------------------------------------------------------------------\n",
      "| \u001b[0m 1       \u001b[0m | \u001b[0m 0.6734  \u001b[0m | \u001b[0m 0.8789  \u001b[0m | \u001b[0m 0.2652  \u001b[0m | \u001b[0m 0.2893  \u001b[0m | \u001b[0m 0.1583  \u001b[0m | \u001b[0m 5.091e+0\u001b[0m | \u001b[0m 8.839e+0\u001b[0m | \u001b[0m 4.328e+0\u001b[0m |\n",
      "| \u001b[95m 2       \u001b[0m | \u001b[95m 0.6868  \u001b[0m | \u001b[95m 0.3086  \u001b[0m | \u001b[95m 0.9184  \u001b[0m | \u001b[95m 0.3072  \u001b[0m | \u001b[95m 0.4471  \u001b[0m | \u001b[95m 4.96e+03\u001b[0m | \u001b[95m 2.027e+0\u001b[0m | \u001b[95m 4.835e+0\u001b[0m |\n",
      "| \u001b[95m 3       \u001b[0m | \u001b[95m 0.687   \u001b[0m | \u001b[95m 0.714   \u001b[0m | \u001b[95m 0.5834  \u001b[0m | \u001b[95m 0.8323  \u001b[0m | \u001b[95m 0.0295  \u001b[0m | \u001b[95m 5.4e+03 \u001b[0m | \u001b[95m 3.722e+0\u001b[0m | \u001b[95m 5.574e+0\u001b[0m |\n",
      "| \u001b[95m 4       \u001b[0m | \u001b[95m 0.6979  \u001b[0m | \u001b[95m 0.2958  \u001b[0m | \u001b[95m 0.1692  \u001b[0m | \u001b[95m 0.6174  \u001b[0m | \u001b[95m 0.1399  \u001b[0m | \u001b[95m 1.295e+0\u001b[0m | \u001b[95m 6.024e+0\u001b[0m | \u001b[95m 3.992e+0\u001b[0m |\n",
      "=============================================================================================================\n"
     ]
    }
   ],
   "source": [
    "def lgb_eval(num_leaves, lambda_l2, lambda_l1, max_depth, min_data_in_leaf, learning_rate, bagging_fraction):\n",
    "    params = {\n",
    "        \"objective\" : \"binary\",\n",
    "        'boosting': 'rf',\n",
    "        \"metric\" : \"auc\", \n",
    "        'is_unbalance': True,\n",
    "        \"num_threads\" : 6,\n",
    "        \"num_leaves\" : int(num_leaves),\n",
    "        \"lambda_l2\" : lambda_l2,\n",
    "        \"lambda_l1\" : lambda_l1,\n",
    "        'max_depth': int(max_depth),\n",
    "        'min_data_in_leaf': int(min_data_in_leaf),\n",
    "        \"learning_rate\" : learning_rate,\n",
    "        'feature_fraction': 1,\n",
    "        \"verbosity\" : -1,\n",
    "        'histogram_pool_size': 50000,\n",
    "        'num_boost_round': 100,\n",
    "        'early_stopping_rounds': 100,\n",
    "        'bagging_freq': 1,\n",
    "        'bagging_fraction': bagging_fraction\n",
    "    }\n",
    "    lgtrain = lgbm.Dataset(X_train, y_train,categorical_feature=categorical_features)\n",
    "    cv_result = lgbm.cv(params,\n",
    "                       lgtrain,\n",
    "                       stratified=True,\n",
    "                       nfold=2)\n",
    "    return cv_result['auc-mean'][-1]\n",
    "\n",
    "lgbBO1 = BayesianOptimization(lgb_eval, {\n",
    "                                        \"num_leaves\" : (10, 100000),\n",
    "                                        \"lambda_l2\" : (.1, 1),\n",
    "                                        \"lambda_l1\" : (.1, 1),\n",
    "                                        'max_depth': (10,100000),\n",
    "                                        'min_data_in_leaf': (10, 100000), \n",
    "                                        \"learning_rate\" : (.001,.5),\n",
    "#                                         'feature_fraction': (.1,1),\n",
    "                                        'bagging_fraction': (.1,1)\n",
    "                                         })\n",
    "\n",
    "# logger = JSONLogger(path=\"./log1.json\")\n",
    "# lgbBO1.subscribe(Events.OPTIMIZATION_STEP, logger)\n",
    "\n",
    "lgbBO1.maximize(init_points=2, n_iter=2)"
   ]
  },
  {
   "cell_type": "code",
   "execution_count": 8,
   "metadata": {
    "scrolled": true
   },
   "outputs": [
    {
     "name": "stdout",
     "output_type": "stream",
     "text": [
      "|   iter    |  target   | lambda_l1 | lambda_l2 | learni... | max_depth | min_da... | num_le... |\n",
      "-------------------------------------------------------------------------------------------------\n",
      "| \u001b[0m 1       \u001b[0m | \u001b[0m 0.71    \u001b[0m | \u001b[0m 0.4638  \u001b[0m | \u001b[0m 0.1986  \u001b[0m | \u001b[0m 0.1318  \u001b[0m | \u001b[0m 4.762e+0\u001b[0m | \u001b[0m 7.788e+0\u001b[0m | \u001b[0m 9.875e+0\u001b[0m |\n",
      "| \u001b[95m 2       \u001b[0m | \u001b[95m 0.722   \u001b[0m | \u001b[95m 0.8171  \u001b[0m | \u001b[95m 0.8738  \u001b[0m | \u001b[95m 0.4971  \u001b[0m | \u001b[95m 7.996e+0\u001b[0m | \u001b[95m 5.161e+0\u001b[0m | \u001b[95m 8.025e+0\u001b[0m |\n",
      "| \u001b[0m 3       \u001b[0m | \u001b[0m 0.7198  \u001b[0m | \u001b[0m 0.6512  \u001b[0m | \u001b[0m 0.2427  \u001b[0m | \u001b[0m 0.4462  \u001b[0m | \u001b[0m 5.971e+0\u001b[0m | \u001b[0m 6.477e+0\u001b[0m | \u001b[0m 8.997e+0\u001b[0m |\n",
      "| \u001b[0m 4       \u001b[0m | \u001b[0m 0.7143  \u001b[0m | \u001b[0m 0.918   \u001b[0m | \u001b[0m 0.8614  \u001b[0m | \u001b[0m 0.1945  \u001b[0m | \u001b[0m 4.858e+0\u001b[0m | \u001b[0m 7.367e+0\u001b[0m | \u001b[0m 9.903e+0\u001b[0m |\n",
      "=================================================================================================\n"
     ]
    }
   ],
   "source": [
    "def lgb_eval(num_leaves, lambda_l2, lambda_l1, max_depth, min_data_in_leaf, learning_rate):\n",
    "    params = {\n",
    "        \"objective\" : \"binary\",\n",
    "        'boosting': 'dart',\n",
    "        \"metric\" : \"auc\", \n",
    "        'is_unbalance': True,\n",
    "        \"num_threads\" : 6,\n",
    "        \"num_leaves\" : int(num_leaves),\n",
    "        \"lambda_l2\" : lambda_l2,\n",
    "        \"lambda_l1\" : lambda_l1,\n",
    "        'max_depth': int(max_depth),\n",
    "        'min_data_in_leaf': int(min_data_in_leaf),\n",
    "        \"learning_rate\" : learning_rate,\n",
    "        'feature_fraction': 1,\n",
    "        \"verbosity\" : -1,\n",
    "        'histogram_pool_size': 50000,\n",
    "        'num_boost_round': 100,\n",
    "        'early_stopping_rounds': 100\n",
    "    }\n",
    "    lgtrain = lgbm.Dataset(X_train, y_train,categorical_feature=categorical_features)\n",
    "    cv_result = lgbm.cv(params,\n",
    "                       lgtrain,\n",
    "                       stratified=True,\n",
    "                       nfold=2)\n",
    "    return cv_result['auc-mean'][-1]\n",
    "\n",
    "lgbBO2 = BayesianOptimization(lgb_eval, {\n",
    "                                        \"num_leaves\" : (10, 100000),\n",
    "                                        \"lambda_l2\" : (.1, 1),\n",
    "                                        \"lambda_l1\" : (.1, 1),\n",
    "                                        'max_depth': (10,100000),\n",
    "                                        'min_data_in_leaf': (10, 100000), \n",
    "                                        \"learning_rate\" : (.001,.5)\n",
    "#                                         'feature_fraction': (.1,1)\n",
    "                                         })\n",
    "\n",
    "# logger = JSONLogger(path=\"./log2.json\")\n",
    "# lgbBO2.subscribe(Events.OPTIMIZATION_STEP, logger)\n",
    "\n",
    "lgbBO2.maximize(init_points=2, n_iter=2)"
   ]
  },
  {
   "cell_type": "code",
   "execution_count": 9,
   "metadata": {
    "scrolled": false
   },
   "outputs": [
    {
     "name": "stdout",
     "output_type": "stream",
     "text": [
      "|   iter    |  target   | lambda_l1 | lambda_l2 | learni... | max_depth | min_da... | num_le... |\n",
      "-------------------------------------------------------------------------------------------------\n",
      "| \u001b[0m 1       \u001b[0m | \u001b[0m 0.7241  \u001b[0m | \u001b[0m 0.4682  \u001b[0m | \u001b[0m 0.3852  \u001b[0m | \u001b[0m 0.1283  \u001b[0m | \u001b[0m 5.989e+0\u001b[0m | \u001b[0m 8.175e+0\u001b[0m | \u001b[0m 4.258e+0\u001b[0m |\n",
      "| \u001b[0m 2       \u001b[0m | \u001b[0m 0.6875  \u001b[0m | \u001b[0m 0.4136  \u001b[0m | \u001b[0m 0.3731  \u001b[0m | \u001b[0m 0.001276\u001b[0m | \u001b[0m 5.027e+0\u001b[0m | \u001b[0m 6.308e+0\u001b[0m | \u001b[0m 2.384e+0\u001b[0m |\n",
      "| \u001b[0m 3       \u001b[0m | \u001b[0m 0.6895  \u001b[0m | \u001b[0m 0.6283  \u001b[0m | \u001b[0m 0.4386  \u001b[0m | \u001b[0m 0.09415 \u001b[0m | \u001b[0m 5.683e+0\u001b[0m | \u001b[0m 8.668e+0\u001b[0m | \u001b[0m 9.883e+0\u001b[0m |\n",
      "| \u001b[0m 4       \u001b[0m | \u001b[0m 0.7075  \u001b[0m | \u001b[0m 0.7715  \u001b[0m | \u001b[0m 0.4029  \u001b[0m | \u001b[0m 0.09087 \u001b[0m | \u001b[0m 9.989e+0\u001b[0m | \u001b[0m 4.734e+0\u001b[0m | \u001b[0m 6.241e+0\u001b[0m |\n",
      "=================================================================================================\n"
     ]
    }
   ],
   "source": [
    "def lgb_eval(num_leaves, lambda_l2, lambda_l1, max_depth, min_data_in_leaf, learning_rate):\n",
    "    params = {\n",
    "        \"objective\" : \"binary\",\n",
    "        'boosting': 'goss',\n",
    "        \"metric\" : \"auc\", \n",
    "        'is_unbalance': True,\n",
    "        \"num_threads\" : 6,\n",
    "        \"num_leaves\" : int(num_leaves),\n",
    "        \"lambda_l2\" : lambda_l2,\n",
    "        \"lambda_l1\" : lambda_l1,\n",
    "        'max_depth': int(max_depth),\n",
    "        'min_data_in_leaf': int(min_data_in_leaf),\n",
    "        \"learning_rate\" : learning_rate,\n",
    "        'feature_fraction': 1,\n",
    "        \"verbosity\" : -1,\n",
    "        'histogram_pool_size': 50000,\n",
    "        'num_boost_round': 100,\n",
    "        'early_stopping_rounds': 100\n",
    "    }\n",
    "    lgtrain = lgbm.Dataset(X_train, y_train,categorical_feature=categorical_features)\n",
    "    cv_result = lgbm.cv(params,\n",
    "                       lgtrain,\n",
    "                       stratified=True,\n",
    "                       nfold=2)\n",
    "    return cv_result['auc-mean'][-1]\n",
    "\n",
    "lgbBO3 = BayesianOptimization(lgb_eval, {\n",
    "                                        \"num_leaves\" : (10, 100000),\n",
    "                                        \"lambda_l2\" : (.1, 1),\n",
    "                                        \"lambda_l1\" : (.1, 1),\n",
    "                                        'max_depth': (10,100000),\n",
    "                                        'min_data_in_leaf': (10, 100000), \n",
    "                                        \"learning_rate\" : (.001,.5)\n",
    "#                                         'feature_fraction': (.1,1)\n",
    "                                         })\n",
    "\n",
    "# logger = JSONLogger(path=\"./log3.json\")\n",
    "# lgbBO3.subscribe(Events.OPTIMIZATION_STEP, logger)\n",
    "\n",
    "lgbBO3.maximize(init_points=2, n_iter=2)"
   ]
  },
  {
   "cell_type": "code",
   "execution_count": 10,
   "metadata": {},
   "outputs": [
    {
     "data": {
      "text/plain": [
       "{'target': 0.7241366468189456,\n",
       " 'params': {'lambda_l1': 0.46817674606431325,\n",
       "  'lambda_l2': 0.38522015577153557,\n",
       "  'learning_rate': 0.12834391911796292,\n",
       "  'max_depth': 59894.252254610416,\n",
       "  'min_data_in_leaf': 8175.308003838011,\n",
       "  'num_leaves': 42583.97791705614}}"
      ]
     },
     "execution_count": 10,
     "metadata": {},
     "output_type": "execute_result"
    }
   ],
   "source": [
    "lgbBO3.max"
   ]
  },
  {
   "cell_type": "code",
   "execution_count": 11,
   "metadata": {},
   "outputs": [
    {
     "name": "stdout",
     "output_type": "stream",
     "text": [
      "|   iter    |  target   | featur... | lambda_l1 | lambda_l2 | learni... | max_depth | min_da... | num_le... |\n",
      "-------------------------------------------------------------------------------------------------------------\n",
      "| \u001b[0m 1       \u001b[0m | \u001b[0m 0.7221  \u001b[0m | \u001b[0m 0.8611  \u001b[0m | \u001b[0m 0.776   \u001b[0m | \u001b[0m 0.7575  \u001b[0m | \u001b[0m 0.4083  \u001b[0m | \u001b[0m 2.226e+0\u001b[0m | \u001b[0m 5.615e+0\u001b[0m | \u001b[0m 4.034e+0\u001b[0m |\n",
      "| \u001b[95m 2       \u001b[0m | \u001b[95m 0.7244  \u001b[0m | \u001b[95m 0.6217  \u001b[0m | \u001b[95m 0.1324  \u001b[0m | \u001b[95m 0.2097  \u001b[0m | \u001b[95m 0.1963  \u001b[0m | \u001b[95m 7.269e+0\u001b[0m | \u001b[95m 4.672e+0\u001b[0m | \u001b[95m 2.995e+0\u001b[0m |\n",
      "| \u001b[0m 3       \u001b[0m | \u001b[0m 0.7223  \u001b[0m | \u001b[0m 0.3256  \u001b[0m | \u001b[0m 0.1311  \u001b[0m | \u001b[0m 0.3171  \u001b[0m | \u001b[0m 0.2493  \u001b[0m | \u001b[0m 3.491e+0\u001b[0m | \u001b[0m 5.061e+0\u001b[0m | \u001b[0m 9.852e+0\u001b[0m |\n",
      "| \u001b[95m 4       \u001b[0m | \u001b[95m 0.7258  \u001b[0m | \u001b[95m 0.8011  \u001b[0m | \u001b[95m 0.492   \u001b[0m | \u001b[95m 0.4798  \u001b[0m | \u001b[95m 0.2221  \u001b[0m | \u001b[95m 9.568e+0\u001b[0m | \u001b[95m 3.989e+0\u001b[0m | \u001b[95m 3.792e+0\u001b[0m |\n",
      "| \u001b[0m 5       \u001b[0m | \u001b[0m 0.7253  \u001b[0m | \u001b[0m 0.3441  \u001b[0m | \u001b[0m 0.7021  \u001b[0m | \u001b[0m 0.2644  \u001b[0m | \u001b[0m 0.3121  \u001b[0m | \u001b[0m 9.953e+0\u001b[0m | \u001b[0m 3.038e+0\u001b[0m | \u001b[0m 3.212e+0\u001b[0m |\n",
      "| \u001b[0m 6       \u001b[0m | \u001b[0m 0.7074  \u001b[0m | \u001b[0m 0.97    \u001b[0m | \u001b[0m 0.6917  \u001b[0m | \u001b[0m 0.6177  \u001b[0m | \u001b[0m 0.1704  \u001b[0m | \u001b[0m 9.986e+0\u001b[0m | \u001b[0m 9.874e+0\u001b[0m | \u001b[0m 4.03e+04\u001b[0m |\n",
      "=============================================================================================================\n"
     ]
    }
   ],
   "source": [
    "def lgb_eval(num_leaves, lambda_l2, lambda_l1, max_depth, min_data_in_leaf, learning_rate, feature_fraction):\n",
    "    params = {\n",
    "        \"objective\" : \"binary\",\n",
    "        'boosting': 'goss',\n",
    "        \"metric\" : \"auc\", \n",
    "        'is_unbalance': True,\n",
    "        \"num_threads\" : 6,\n",
    "        \"num_leaves\" : int(num_leaves),\n",
    "        \"lambda_l2\" : lambda_l2,\n",
    "        \"lambda_l1\" : lambda_l1,\n",
    "        'max_depth': int(max_depth),\n",
    "        'min_data_in_leaf': int(min_data_in_leaf),\n",
    "        \"learning_rate\" : learning_rate,\n",
    "        'feature_fraction': feature_fraction,\n",
    "        \"verbosity\" : -1,\n",
    "        'histogram_pool_size': 50000,\n",
    "        'num_boost_round': 1000,\n",
    "        'early_stopping_rounds': 100\n",
    "    }\n",
    "    lgtrain = lgbm.Dataset(X_train, y_train,categorical_feature=categorical_features)\n",
    "    cv_result = lgbm.cv(params,\n",
    "                       lgtrain,\n",
    "                       stratified=True,\n",
    "                       nfold=5)\n",
    "    return cv_result['auc-mean'][-1]\n",
    "\n",
    "lgbBO4 = BayesianOptimization(lgb_eval, {\n",
    "                                        \"num_leaves\" : (10, 100000),\n",
    "                                        \"lambda_l2\" : (.1, 1),\n",
    "                                        \"lambda_l1\" : (.1, 1),\n",
    "                                        'max_depth': (10,100000),\n",
    "                                        'min_data_in_leaf': (10, 100000), \n",
    "                                        \"learning_rate\" : (.001,.5),\n",
    "                                        'feature_fraction': (.1,1)\n",
    "                                         })\n",
    "\n",
    "# logger = JSONLogger(path=\"./log4.json\")\n",
    "# lgbBO4.subscribe(Events.OPTIMIZATION_STEP, logger)\n",
    "\n",
    "lgbBO4.maximize(init_points=3, n_iter=3)"
   ]
  },
  {
   "cell_type": "code",
   "execution_count": 12,
   "metadata": {},
   "outputs": [
    {
     "data": {
      "text/plain": [
       "{'target': 0.7258269133895738,\n",
       " 'params': {'feature_fraction': 0.8011282904120404,\n",
       "  'lambda_l1': 0.4920192488791567,\n",
       "  'lambda_l2': 0.47980605774856566,\n",
       "  'learning_rate': 0.22210281342523835,\n",
       "  'max_depth': 95684.89183943887,\n",
       "  'min_data_in_leaf': 39891.38148348951,\n",
       "  'num_leaves': 37916.073486879504}}"
      ]
     },
     "execution_count": 12,
     "metadata": {},
     "output_type": "execute_result"
    }
   ],
   "source": [
    "lgbBO4.max"
   ]
  },
  {
   "cell_type": "code",
   "execution_count": 14,
   "metadata": {},
   "outputs": [
    {
     "name": "stdout",
     "output_type": "stream",
     "text": [
      "Training until validation scores don't improve for 100 rounds\n",
      "[100]\ttrain's auc: 0.722562\ttest's auc: 0.720919\n",
      "[200]\ttrain's auc: 0.725414\ttest's auc: 0.722902\n",
      "[300]\ttrain's auc: 0.727065\ttest's auc: 0.723928\n",
      "[400]\ttrain's auc: 0.728164\ttest's auc: 0.724608\n",
      "[500]\ttrain's auc: 0.729096\ttest's auc: 0.725082\n",
      "[600]\ttrain's auc: 0.729788\ttest's auc: 0.725397\n",
      "[700]\ttrain's auc: 0.730463\ttest's auc: 0.725685\n",
      "[800]\ttrain's auc: 0.731042\ttest's auc: 0.725924\n",
      "[900]\ttrain's auc: 0.731611\ttest's auc: 0.726238\n",
      "[1000]\ttrain's auc: 0.732084\ttest's auc: 0.726372\n",
      "Did not meet early stopping. Best iteration is:\n",
      "[1000]\ttrain's auc: 0.732084\ttest's auc: 0.726372\n"
     ]
    }
   ],
   "source": [
    "params = {\n",
    "        \"objective\" : \"binary\",\n",
    "        'boosting': 'goss',\n",
    "        \"metric\" : \"auc\", \n",
    "        'is_unbalance': True,\n",
    "        \"num_threads\" : 6,\n",
    "        'feature_fraction': 0.8011282904120404,\n",
    "        'lambda_l1': 0.4920192488791567,\n",
    "        'lambda_l2': 0.47980605774856566,\n",
    "        'learning_rate': 0.22210281342523835,\n",
    "        'max_depth': 95685,\n",
    "        'min_data_in_leaf': 39891,\n",
    "        'num_leaves': 37916,\n",
    "        \"verbosity\" : -1,\n",
    "        'histogram_pool_size': 50000,\n",
    "        'num_boost_round': 1000,\n",
    "        'early_stopping_rounds': 100\n",
    "}\n",
    "    \n",
    "lgtrain = lgbm.Dataset(X_train, y_train, categorical_feature=categorical_features)\n",
    "lgtest = lgbm.Dataset(X_test, y_test, categorical_feature=categorical_features)\n",
    "lgclf = lgbm.train(\n",
    "        params, \n",
    "        lgtrain,\n",
    "        valid_sets=[lgtrain, lgtest],\n",
    "        valid_names=[\"train\", \"test\"],\n",
    "        verbose_eval=100\n",
    ")"
   ]
  },
  {
   "cell_type": "code",
   "execution_count": 15,
   "metadata": {},
   "outputs": [],
   "source": [
    "r_probs = [0 for _ in range(len(y_test))]\n",
    "lg_probs = lgclf.predict(X_test)\n",
    "r_auc = roc_auc_score(y_test, r_probs)\n",
    "lg_auc = roc_auc_score(y_test, lg_probs)\n",
    "r_fpr, r_tpr, r_thr = roc_curve(y_test, r_probs)\n",
    "lg_fpr, lg_tpr, lg_thr = roc_curve(y_test, lg_probs)"
   ]
  },
  {
   "cell_type": "code",
   "execution_count": 16,
   "metadata": {
    "scrolled": true
   },
   "outputs": [
    {
     "data": {
      "image/png": "[encoded data removed]",
      "text/plain": [
       "<Figure size 360x360 with 1 Axes>"
      ]
     },
     "metadata": {
      "needs_background": "light"
     },
     "output_type": "display_data"
    }
   ],
   "source": [
    "plt.figure(figsize=(5,5))\n",
    "plt.plot(r_fpr,r_tpr, linestyle='--', label='Random chance prediction: AUROC = %.3f' % (r_auc))\n",
    "plt.plot(lg_fpr,lg_tpr, linestyle='--', label='Bayesian Boosted LightGBM prediction: AUROC = %.3f' % (lg_auc))\n",
    "\n",
    "#Title\n",
    "plt.title('ROC Plot')\n",
    "#Axis labels\n",
    "plt.xlabel('False Positive Rate')\n",
    "plt.ylabel('True Positive Rate')\n",
    "#Legend\n",
    "plt.legend(loc='lower right')\n",
    "plt.savefig('roc_plot.png')\n",
    "plt.show()"
   ]
  },
  {
   "cell_type": "code",
   "execution_count": 147,
   "metadata": {
    "scrolled": true
   },
   "outputs": [
    {
     "name": "stdout",
     "output_type": "stream",
     "text": [
      "              precision    recall  f1-score   support\n",
      "\n",
      "           0       0.84      0.91      0.87    200129\n",
      "           1       0.46      0.29      0.35     50268\n",
      "\n",
      "    accuracy                           0.79    250397\n",
      "   macro avg       0.65      0.60      0.61    250397\n",
      "weighted avg       0.76      0.79      0.77    250397\n",
      "\n",
      "MCC-score=0.243\n",
      "ROC AUC-score=0.601\n"
     ]
    }
   ],
   "source": [
    "binarizer = Binarizer(threshold=.7)\n",
    "lgbin = binarizer.fit_transform([lg_probs])\n",
    "np.unique(lgbin.ravel(),return_counts=True)\n",
    "lgbin = np.reshape(lgbin,250397)\n",
    "mcc = met.matthews_corrcoef(y_test, lgbin)\n",
    "roc = met.roc_auc_score(y_test, lgbin)\n",
    "\n",
    "print(met.classification_report(y_test,lgbin))\n",
    "print('MCC-score=%.3f' % (mcc))\n",
    "print('ROC AUC-score=%.3f' % (roc))"
   ]
  },
  {
   "cell_type": "code",
   "execution_count": 148,
   "metadata": {
    "scrolled": false
   },
   "outputs": [
    {
     "name": "stdout",
     "output_type": "stream",
     "text": [
      "Confusion matrix, without normalization\n",
      "[[182925  17204]\n",
      " [ 35788  14480]]\n",
      "Normalized confusion matrix\n",
      "[[0.91 0.09]\n",
      " [0.71 0.29]]\n"
     ]
    },
    {
     "data": {
      "image/png": "[encoded data removed]",
      "text/plain": [
       "<Figure size 432x288 with 2 Axes>"
      ]
     },
     "metadata": {
      "needs_background": "light"
     },
     "output_type": "display_data"
    },
    {
     "data": {
      "image/png": "[encoded data removed]",
      "text/plain": [
       "<Figure size 432x288 with 2 Axes>"
      ]
     },
     "metadata": {
      "needs_background": "light"
     },
     "output_type": "display_data"
    }
   ],
   "source": [
    "class_names=['paid off','charged off'] # name  of classes\n",
    "\n",
    "def plot_confusion_matrix(y_true, y_pred, classes,\n",
    "                          normalize=False,\n",
    "                          title=None,\n",
    "                          cmap=plt.cm.Blues):\n",
    "    \"\"\"\n",
    "    This function prints and plots the confusion matrix.\n",
    "    Normalization can be applied by setting `normalize=True`.\n",
    "    \"\"\"\n",
    "    if not title:\n",
    "        if normalize:\n",
    "            title = 'Normalized confusion matrix'\n",
    "        else:\n",
    "            title = 'Confusion matrix, without normalization'\n",
    "\n",
    "    # Compute confusion matrix\n",
    "    cm = confusion_matrix(y_true, y_pred)\n",
    "#     # Only use the labels that appear in the data\n",
    "#     classes = classes[unique_labels(y_true, y_pred)]\n",
    "    if normalize:\n",
    "        cm = cm.astype('float') / cm.sum(axis=1)[:, np.newaxis]\n",
    "        print(\"Normalized confusion matrix\")\n",
    "    else:\n",
    "        print('Confusion matrix, without normalization')\n",
    "\n",
    "    print(cm)\n",
    "\n",
    "    fig, ax = plt.subplots()\n",
    "    im = ax.imshow(cm, interpolation='nearest', cmap=cmap)\n",
    "    ax.figure.colorbar(im, ax=ax)\n",
    "    # We want to show all ticks...\n",
    "    ax.set(xticks=np.arange(cm.shape[1]),\n",
    "           yticks=np.arange(cm.shape[0]),\n",
    "           # ... and label them with the respective list entries\n",
    "           xticklabels=classes, yticklabels=classes,\n",
    "           title=title,\n",
    "           ylabel='True label',\n",
    "           xlabel='Predicted label')\n",
    "\n",
    "    # Rotate the tick labels and set their alignment.\n",
    "    plt.setp(ax.get_xticklabels(), rotation=45, ha=\"right\",\n",
    "             rotation_mode=\"anchor\")\n",
    "\n",
    "    # Loop over data dimensions and create text annotations.\n",
    "    fmt = '.2f' if normalize else 'd'\n",
    "    thresh = cm.max() / 2.\n",
    "    for i in range(cm.shape[0]):\n",
    "        for j in range(cm.shape[1]):\n",
    "            ax.text(j, i, format(cm[i, j], fmt),\n",
    "                    ha=\"center\", va=\"center\",\n",
    "                    color=\"white\" if cm[i, j] > thresh else \"black\")\n",
    "    fig.tight_layout()\n",
    "    plt.xlim(-0.5, len(np.unique(y))-0.5)\n",
    "    plt.ylim(len(np.unique(y))-0.5, -0.5)\n",
    "    return ax\n",
    "\n",
    "\n",
    "np.set_printoptions(precision=2)\n",
    "\n",
    "# Plot non-normalized confusion matrix\n",
    "plot_confusion_matrix(y_test, lgbin, classes=class_names,\n",
    "                      title='Confusion matrix, without normalization')\n",
    "\n",
    "# Plot normalized confusion matrix\n",
    "plot_confusion_matrix(y_test, lgbin, classes=class_names, normalize=True,\n",
    "                      title='Normalized confusion matrix')\n",
    "\n",
    "plt.savefig('conf_matrix0.png')\n",
    "\n",
    "plt.show()"
   ]
  },
  {
   "cell_type": "code",
   "execution_count": 149,
   "metadata": {
    "scrolled": true
   },
   "outputs": [
    {
     "name": "stdout",
     "output_type": "stream",
     "text": [
      "              precision    recall  f1-score   support\n",
      "\n",
      "           0       0.85      0.86      0.86    200129\n",
      "           1       0.42      0.39      0.41     50268\n",
      "\n",
      "    accuracy                           0.77    250397\n",
      "   macro avg       0.63      0.63      0.63    250397\n",
      "weighted avg       0.76      0.77      0.77    250397\n",
      "\n",
      "MCC-score=0.262\n",
      "ROC AUC-score=0.628\n"
     ]
    }
   ],
   "source": [
    "binarizer = Binarizer(threshold=.65)\n",
    "lgbin = binarizer.fit_transform([lg_probs])\n",
    "np.unique(lgbin.ravel(),return_counts=True)\n",
    "lgbin = np.reshape(lgbin,250397)\n",
    "mcc = met.matthews_corrcoef(y_test, lgbin)\n",
    "roc = met.roc_auc_score(y_test, lgbin)\n",
    "\n",
    "print(met.classification_report(y_test,lgbin))\n",
    "print('MCC-score=%.3f' % (mcc))\n",
    "print('ROC AUC-score=%.3f' % (roc))"
   ]
  },
  {
   "cell_type": "code",
   "execution_count": 150,
   "metadata": {
    "scrolled": false
   },
   "outputs": [
    {
     "name": "stdout",
     "output_type": "stream",
     "text": [
      "Confusion matrix, without normalization\n",
      "[[172638  27491]\n",
      " [ 30472  19796]]\n",
      "Normalized confusion matrix\n",
      "[[0.86 0.14]\n",
      " [0.61 0.39]]\n"
     ]
    },
    {
     "data": {
      "image/png": "[encoded data removed]",
      "text/plain": [
       "<Figure size 432x288 with 2 Axes>"
      ]
     },
     "metadata": {
      "needs_background": "light"
     },
     "output_type": "display_data"
    },
    {
     "data": {
      "image/png": "[encoded data removed]",
      "text/plain": [
       "<Figure size 432x288 with 2 Axes>"
      ]
     },
     "metadata": {
      "needs_background": "light"
     },
     "output_type": "display_data"
    }
   ],
   "source": [
    "class_names=['paid off','charged off'] # name  of classes\n",
    "\n",
    "def plot_confusion_matrix(y_true, y_pred, classes,\n",
    "                          normalize=False,\n",
    "                          title=None,\n",
    "                          cmap=plt.cm.Blues):\n",
    "    \"\"\"\n",
    "    This function prints and plots the confusion matrix.\n",
    "    Normalization can be applied by setting `normalize=True`.\n",
    "    \"\"\"\n",
    "    if not title:\n",
    "        if normalize:\n",
    "            title = 'Normalized confusion matrix'\n",
    "        else:\n",
    "            title = 'Confusion matrix, without normalization'\n",
    "\n",
    "    # Compute confusion matrix\n",
    "    cm = confusion_matrix(y_true, y_pred)\n",
    "#     # Only use the labels that appear in the data\n",
    "#     classes = classes[unique_labels(y_true, y_pred)]\n",
    "    if normalize:\n",
    "        cm = cm.astype('float') / cm.sum(axis=1)[:, np.newaxis]\n",
    "        print(\"Normalized confusion matrix\")\n",
    "    else:\n",
    "        print('Confusion matrix, without normalization')\n",
    "\n",
    "    print(cm)\n",
    "\n",
    "    fig, ax = plt.subplots()\n",
    "    im = ax.imshow(cm, interpolation='nearest', cmap=cmap)\n",
    "    ax.figure.colorbar(im, ax=ax)\n",
    "    # We want to show all ticks...\n",
    "    ax.set(xticks=np.arange(cm.shape[1]),\n",
    "           yticks=np.arange(cm.shape[0]),\n",
    "           # ... and label them with the respective list entries\n",
    "           xticklabels=classes, yticklabels=classes,\n",
    "           title=title,\n",
    "           ylabel='True label',\n",
    "           xlabel='Predicted label')\n",
    "\n",
    "    # Rotate the tick labels and set their alignment.\n",
    "    plt.setp(ax.get_xticklabels(), rotation=45, ha=\"right\",\n",
    "             rotation_mode=\"anchor\")\n",
    "\n",
    "    # Loop over data dimensions and create text annotations.\n",
    "    fmt = '.2f' if normalize else 'd'\n",
    "    thresh = cm.max() / 2.\n",
    "    for i in range(cm.shape[0]):\n",
    "        for j in range(cm.shape[1]):\n",
    "            ax.text(j, i, format(cm[i, j], fmt),\n",
    "                    ha=\"center\", va=\"center\",\n",
    "                    color=\"white\" if cm[i, j] > thresh else \"black\")\n",
    "    fig.tight_layout()\n",
    "    plt.xlim(-0.5, len(np.unique(y))-0.5)\n",
    "    plt.ylim(len(np.unique(y))-0.5, -0.5)\n",
    "    return ax\n",
    "\n",
    "\n",
    "np.set_printoptions(precision=2)\n",
    "\n",
    "# Plot non-normalized confusion matrix\n",
    "plot_confusion_matrix(y_test, lgbin, classes=class_names,\n",
    "                      title='Confusion matrix, without normalization')\n",
    "\n",
    "# Plot normalized confusion matrix\n",
    "plot_confusion_matrix(y_test, lgbin, classes=class_names, normalize=True,\n",
    "                      title='Normalized confusion matrix')\n",
    "\n",
    "plt.savefig('conf_matrix1.png')\n",
    "\n",
    "plt.show()"
   ]
  },
  {
   "cell_type": "code",
   "execution_count": 151,
   "metadata": {},
   "outputs": [
    {
     "name": "stdout",
     "output_type": "stream",
     "text": [
      "              precision    recall  f1-score   support\n",
      "\n",
      "           0       0.86      0.80      0.83    200129\n",
      "           1       0.38      0.50      0.43     50268\n",
      "\n",
      "    accuracy                           0.74    250397\n",
      "   macro avg       0.62      0.65      0.63    250397\n",
      "weighted avg       0.77      0.74      0.75    250397\n",
      "\n",
      "MCC-score=0.270\n",
      "ROC AUC-score=0.648\n"
     ]
    }
   ],
   "source": [
    "binarizer = Binarizer(threshold=.6)\n",
    "lgbin = binarizer.fit_transform([lg_probs])\n",
    "np.unique(lgbin.ravel(),return_counts=True)\n",
    "lgbin = np.reshape(lgbin,250397)\n",
    "mcc = met.matthews_corrcoef(y_test, lgbin)\n",
    "roc = met.roc_auc_score(y_test, lgbin)\n",
    "\n",
    "print(met.classification_report(y_test,lgbin))\n",
    "print('MCC-score=%.3f' % (mcc))\n",
    "print('ROC AUC-score=%.3f' % (roc))"
   ]
  },
  {
   "cell_type": "code",
   "execution_count": 152,
   "metadata": {
    "scrolled": false
   },
   "outputs": [
    {
     "name": "stdout",
     "output_type": "stream",
     "text": [
      "Confusion matrix, without normalization\n",
      "[[159912  40217]\n",
      " [ 25286  24982]]\n",
      "Normalized confusion matrix\n",
      "[[0.8 0.2]\n",
      " [0.5 0.5]]\n"
     ]
    },
    {
     "data": {
      "image/png": "[encoded data removed]",
      "text/plain": [
       "<Figure size 432x288 with 2 Axes>"
      ]
     },
     "metadata": {
      "needs_background": "light"
     },
     "output_type": "display_data"
    },
    {
     "data": {
      "image/png": "[encoded data removed]",
      "text/plain": [
       "<Figure size 432x288 with 2 Axes>"
      ]
     },
     "metadata": {
      "needs_background": "light"
     },
     "output_type": "display_data"
    }
   ],
   "source": [
    "class_names=['paid off','charged off'] # name  of classes\n",
    "\n",
    "def plot_confusion_matrix(y_true, y_pred, classes,\n",
    "                          normalize=False,\n",
    "                          title=None,\n",
    "                          cmap=plt.cm.Blues):\n",
    "    \"\"\"\n",
    "    This function prints and plots the confusion matrix.\n",
    "    Normalization can be applied by setting `normalize=True`.\n",
    "    \"\"\"\n",
    "    if not title:\n",
    "        if normalize:\n",
    "            title = 'Normalized confusion matrix'\n",
    "        else:\n",
    "            title = 'Confusion matrix, without normalization'\n",
    "\n",
    "    # Compute confusion matrix\n",
    "    cm = confusion_matrix(y_true, y_pred)\n",
    "#     # Only use the labels that appear in the data\n",
    "#     classes = classes[unique_labels(y_true, y_pred)]\n",
    "    if normalize:\n",
    "        cm = cm.astype('float') / cm.sum(axis=1)[:, np.newaxis]\n",
    "        print(\"Normalized confusion matrix\")\n",
    "    else:\n",
    "        print('Confusion matrix, without normalization')\n",
    "\n",
    "    print(cm)\n",
    "\n",
    "    fig, ax = plt.subplots()\n",
    "    im = ax.imshow(cm, interpolation='nearest', cmap=cmap)\n",
    "    ax.figure.colorbar(im, ax=ax)\n",
    "    # We want to show all ticks...\n",
    "    ax.set(xticks=np.arange(cm.shape[1]),\n",
    "           yticks=np.arange(cm.shape[0]),\n",
    "           # ... and label them with the respective list entries\n",
    "           xticklabels=classes, yticklabels=classes,\n",
    "           title=title,\n",
    "           ylabel='True label',\n",
    "           xlabel='Predicted label')\n",
    "\n",
    "    # Rotate the tick labels and set their alignment.\n",
    "    plt.setp(ax.get_xticklabels(), rotation=45, ha=\"right\",\n",
    "             rotation_mode=\"anchor\")\n",
    "\n",
    "    # Loop over data dimensions and create text annotations.\n",
    "    fmt = '.2f' if normalize else 'd'\n",
    "    thresh = cm.max() / 2.\n",
    "    for i in range(cm.shape[0]):\n",
    "        for j in range(cm.shape[1]):\n",
    "            ax.text(j, i, format(cm[i, j], fmt),\n",
    "                    ha=\"center\", va=\"center\",\n",
    "                    color=\"white\" if cm[i, j] > thresh else \"black\")\n",
    "    fig.tight_layout()\n",
    "    plt.xlim(-0.5, len(np.unique(y))-0.5)\n",
    "    plt.ylim(len(np.unique(y))-0.5, -0.5)\n",
    "    return ax\n",
    "\n",
    "\n",
    "np.set_printoptions(precision=2)\n",
    "\n",
    "# Plot non-normalized confusion matrix\n",
    "plot_confusion_matrix(y_test, lgbin, classes=class_names,\n",
    "                      title='Confusion matrix, without normalization')\n",
    "\n",
    "# Plot normalized confusion matrix\n",
    "plot_confusion_matrix(y_test, lgbin, classes=class_names, normalize=True,\n",
    "                      title='Normalized confusion matrix')\n",
    "\n",
    "plt.savefig('conf_matrix2.png')\n",
    "\n",
    "plt.show()"
   ]
  },
  {
   "cell_type": "markdown",
   "metadata": {},
   "source": [
    "### Profits/losses of LendingClub classifications with interest and disregarding inflation, assuming half of charged off principal doesn't get paid back."
   ]
  },
  {
   "cell_type": "code",
   "execution_count": 119,
   "metadata": {},
   "outputs": [],
   "source": [
    "df['Profit'][df['loan_status'] == 'Charged Off'] = df['loan_amnt']/(-2)\n",
    "df['Profit'][df['loan_status'] == 'Fully Paid'] = df['installment']*df['term']-df['loan_amnt']"
   ]
  },
  {
   "cell_type": "markdown",
   "metadata": {},
   "source": [
    "### Calculating data for table."
   ]
  },
  {
   "cell_type": "code",
   "execution_count": 143,
   "metadata": {},
   "outputs": [],
   "source": [
    "names = ['Original Dataset', '.7', '.65', '.6']"
   ]
  },
  {
   "cell_type": "code",
   "execution_count": 188,
   "metadata": {},
   "outputs": [],
   "source": [
    "#Original Dataset\n",
    "mean_prof = df['Profit'][df['Profit'] > 0].mean()\n",
    "mean_loss = df['Profit'][df['Profit'] < 0].mean()\n",
    "le_FP = df['Profit'][df['loan_status'] == 'Fully Paid'].count()\n",
    "le_CO = df['Profit'][df['loan_status'] == 'Charged Off'].count()\n",
    "le = len(df)\n",
    "\n",
    "#Total profits\n",
    "total_8 = mean_prof*le_FP*.91+mean_loss*le_CO*.71\n",
    "total_65 = mean_prof*le_FP*.86+mean_loss*le_CO*.61\n",
    "total_5 = mean_prof*le_FP*.8+mean_loss*le_CO*.5\n",
    "\n",
    "total_prof = [df['Profit'].sum(),total_8, total_65, total_5]\n",
    "prof_per_loan = [df['Profit'].mean(),total_8/(le_FP*.91+le_CO*.71),total_65/(le_FP*.86+le_CO*.61), total_5/(le_FP*.8+le_CO*.5)]\n",
    "num_misclass = [0,le_FP*.09,le_FP*.14,le_FP*.2]\n",
    "total_unearned = [0,le_FP*.09*mean_prof,le_FP*.14*mean_prof,le_FP*.2*mean_prof]\n",
    "num_cor_class = [0,le_CO*.29,le_CO*.39,le_CO*.5]\n",
    "total_saved = [0,-mean_loss*le_CO*.29,-mean_loss*le_CO*.39,-mean_loss*le_CO*.5]\n",
    "impr_per_loan = [0,(total_8/(le_FP*.91+le_CO*.71)/df['Profit'].mean())-1,(total_65/(le_FP*.86+le_CO*.61)/df['Profit'].mean())-1, (total_5/(le_FP*.8+le_CO*.5)/df['Profit'].mean())-1]\n",
    "impr_total = [0,(total_8/df['Profit'].sum())-1, (total_65/df['Profit'].sum())-1, (total_5/df['Profit'].sum())-1]\n",
    "\n",
    "total_prof = ['${:,.0f}'.format(val) for val in total_prof]\n",
    "prof_per_loan = ['${:,.0f}'.format(val) for val in prof_per_loan]\n",
    "total_unearned = ['${:,.0f}'.format(val) for val in total_unearned]\n",
    "total_saved = ['${:,.0f}'.format(val) for val in total_saved]\n",
    "num_cor_class = [round(x) for x in num_cor_class]\n",
    "num_misclass = [round(x) for x in num_misclass]\n",
    "num_cor_class = ['{:,.0f}'.format(val) for val in num_cor_class]\n",
    "num_misclass = ['{:,.0f}'.format(val) for val in num_misclass]\n",
    "impr_per_loan = [100*x for x in impr_per_loan]\n",
    "impr_per_loan = ['{:.2f}%'.format(x) for x in impr_per_loan]\n",
    "impr_total = [100*x for x in impr_total]\n",
    "impr_total = ['{:.2f}%'.format(x) for x in impr_total]"
   ]
  },
  {
   "cell_type": "code",
   "execution_count": 190,
   "metadata": {},
   "outputs": [
    {
     "data": {
      "application/vnd.plotly.v1+json": {
       "config": {
        "plotlyServerURL": "https://plot.ly"
       },
       "data": [
        {
         "cells": {
          "fill": {
           "color": [
            [
             "white",
             "lightgrey",
             "white",
             "lightgrey",
             "white",
             "lightgrey",
             "white",
             "lightgrey",
             "white",
             "lightgrey",
             "white",
             "lightgrey",
             "white",
             "lightgrey",
             "white",
             "lightgrey",
             "white",
             "lightgrey",
             "white",
             "lightgrey",
             "white",
             "lightgrey",
             "white",
             "lightgrey",
             "white",
             "lightgrey",
             "white",
             "lightgrey",
             "white",
             "lightgrey",
             "white",
             "lightgrey",
             "white",
             "lightgrey",
             "white",
             "lightgrey"
            ]
           ]
          },
          "line": {
           "color": "darkslategray"
          },
          "values": [
           [
            "Original Dataset",
            ".7",
            ".65",
            ".6"
           ],
           [
            "$1,497",
            "$1,926",
            "$2,074",
            "$2,254"
           ],
           [
            "0.00%",
            "28.72%",
            "38.55%",
            "50.64%"
           ],
           [
            "$1,873,755,479",
            "$2,097,808,571",
            "$2,102,113,032",
            "$2,087,673,433"
           ],
           [
            "0.00%",
            "11.96%",
            "12.19%",
            "11.42%"
           ],
           [
            "0",
            "90,008",
            "140,012",
            "200,017"
           ],
           [
            "$0",
            "$345,141,121",
            "$536,886,188",
            "$766,980,268"
           ],
           [
            "0",
            "73,050",
            "98,239",
            "125,948"
           ],
           [
            "$0",
            "$568,543,632",
            "$764,593,160",
            "$980,247,641"
           ]
          ]
         },
         "header": {
          "fill": {
           "color": "grey"
          },
          "font": {
           "color": "white",
           "size": 12
          },
          "line": {
           "color": "darkslategray"
          },
          "values": [
           "Model Threshold",
           "Profit per Loan",
           "Improvement Over Original",
           "Total Profit",
           "Improvement Over Original",
           "Loans Misclassified as Charge-off",
           "Total Un-earned Profits",
           "Loans Correctly Classified as Charge-Offs",
           "Total Losses Prevented"
          ]
         },
         "type": "table"
        }
       ],
       "layout": {
        "height": 400,
        "template": {
         "data": {
          "bar": [
           {
            "error_x": {
             "color": "#2a3f5f"
            },
            "error_y": {
             "color": "#2a3f5f"
            },
            "marker": {
             "line": {
              "color": "#E5ECF6",
              "width": 0.5
             }
            },
            "type": "bar"
           }
          ],
          "barpolar": [
           {
            "marker": {
             "line": {
              "color": "#E5ECF6",
              "width": 0.5
             }
            },
            "type": "barpolar"
           }
          ],
          "carpet": [
           {
            "aaxis": {
             "endlinecolor": "#2a3f5f",
             "gridcolor": "white",
             "linecolor": "white",
             "minorgridcolor": "white",
             "startlinecolor": "#2a3f5f"
            },
            "baxis": {
             "endlinecolor": "#2a3f5f",
             "gridcolor": "white",
             "linecolor": "white",
             "minorgridcolor": "white",
             "startlinecolor": "#2a3f5f"
            },
            "type": "carpet"
           }
          ],
          "choropleth": [
           {
            "colorbar": {
             "outlinewidth": 0,
             "ticks": ""
            },
            "type": "choropleth"
           }
          ],
          "contour": [
           {
            "colorbar": {
             "outlinewidth": 0,
             "ticks": ""
            },
            "colorscale": [
             [
              0,
              "#0d0887"
             ],
             [
              0.1111111111111111,
              "#46039f"
             ],
             [
              0.2222222222222222,
              "#7201a8"
             ],
             [
              0.3333333333333333,
              "#9c179e"
             ],
             [
              0.4444444444444444,
              "#bd3786"
             ],
             [
              0.5555555555555556,
              "#d8576b"
             ],
             [
              0.6666666666666666,
              "#ed7953"
             ],
             [
              0.7777777777777778,
              "#fb9f3a"
             ],
             [
              0.8888888888888888,
              "#fdca26"
             ],
             [
              1,
              "#f0f921"
             ]
            ],
            "type": "contour"
           }
          ],
          "contourcarpet": [
           {
            "colorbar": {
             "outlinewidth": 0,
             "ticks": ""
            },
            "type": "contourcarpet"
           }
          ],
          "heatmap": [
           {
            "colorbar": {
             "outlinewidth": 0,
             "ticks": ""
            },
            "colorscale": [
             [
              0,
              "#0d0887"
             ],
             [
              0.1111111111111111,
              "#46039f"
             ],
             [
              0.2222222222222222,
              "#7201a8"
             ],
             [
              0.3333333333333333,
              "#9c179e"
             ],
             [
              0.4444444444444444,
              "#bd3786"
             ],
             [
              0.5555555555555556,
              "#d8576b"
             ],
             [
              0.6666666666666666,
              "#ed7953"
             ],
             [
              0.7777777777777778,
              "#fb9f3a"
             ],
             [
              0.8888888888888888,
              "#fdca26"
             ],
             [
              1,
              "#f0f921"
             ]
            ],
            "type": "heatmap"
           }
          ],
          "heatmapgl": [
           {
            "colorbar": {
             "outlinewidth": 0,
             "ticks": ""
            },
            "colorscale": [
             [
              0,
              "#0d0887"
             ],
             [
              0.1111111111111111,
              "#46039f"
             ],
             [
              0.2222222222222222,
              "#7201a8"
             ],
             [
              0.3333333333333333,
              "#9c179e"
             ],
             [
              0.4444444444444444,
              "#bd3786"
             ],
             [
              0.5555555555555556,
              "#d8576b"
             ],
             [
              0.6666666666666666,
              "#ed7953"
             ],
             [
              0.7777777777777778,
              "#fb9f3a"
             ],
             [
              0.8888888888888888,
              "#fdca26"
             ],
             [
              1,
              "#f0f921"
             ]
            ],
            "type": "heatmapgl"
           }
          ],
          "histogram": [
           {
            "marker": {
             "colorbar": {
              "outlinewidth": 0,
              "ticks": ""
             }
            },
            "type": "histogram"
           }
          ],
          "histogram2d": [
           {
            "colorbar": {
             "outlinewidth": 0,
             "ticks": ""
            },
            "colorscale": [
             [
              0,
              "#0d0887"
             ],
             [
              0.1111111111111111,
              "#46039f"
             ],
             [
              0.2222222222222222,
              "#7201a8"
             ],
             [
              0.3333333333333333,
              "#9c179e"
             ],
             [
              0.4444444444444444,
              "#bd3786"
             ],
             [
              0.5555555555555556,
              "#d8576b"
             ],
             [
              0.6666666666666666,
              "#ed7953"
             ],
             [
              0.7777777777777778,
              "#fb9f3a"
             ],
             [
              0.8888888888888888,
              "#fdca26"
             ],
             [
              1,
              "#f0f921"
             ]
            ],
            "type": "histogram2d"
           }
          ],
          "histogram2dcontour": [
           {
            "colorbar": {
             "outlinewidth": 0,
             "ticks": ""
            },
            "colorscale": [
             [
              0,
              "#0d0887"
             ],
             [
              0.1111111111111111,
              "#46039f"
             ],
             [
              0.2222222222222222,
              "#7201a8"
             ],
             [
              0.3333333333333333,
              "#9c179e"
             ],
             [
              0.4444444444444444,
              "#bd3786"
             ],
             [
              0.5555555555555556,
              "#d8576b"
             ],
             [
              0.6666666666666666,
              "#ed7953"
             ],
             [
              0.7777777777777778,
              "#fb9f3a"
             ],
             [
              0.8888888888888888,
              "#fdca26"
             ],
             [
              1,
              "#f0f921"
             ]
            ],
            "type": "histogram2dcontour"
           }
          ],
          "mesh3d": [
           {
            "colorbar": {
             "outlinewidth": 0,
             "ticks": ""
            },
            "type": "mesh3d"
           }
          ],
          "parcoords": [
           {
            "line": {
             "colorbar": {
              "outlinewidth": 0,
              "ticks": ""
             }
            },
            "type": "parcoords"
           }
          ],
          "pie": [
           {
            "automargin": true,
            "type": "pie"
           }
          ],
          "scatter": [
           {
            "marker": {
             "colorbar": {
              "outlinewidth": 0,
              "ticks": ""
             }
            },
            "type": "scatter"
           }
          ],
          "scatter3d": [
           {
            "line": {
             "colorbar": {
              "outlinewidth": 0,
              "ticks": ""
             }
            },
            "marker": {
             "colorbar": {
              "outlinewidth": 0,
              "ticks": ""
             }
            },
            "type": "scatter3d"
           }
          ],
          "scattercarpet": [
           {
            "marker": {
             "colorbar": {
              "outlinewidth": 0,
              "ticks": ""
             }
            },
            "type": "scattercarpet"
           }
          ],
          "scattergeo": [
           {
            "marker": {
             "colorbar": {
              "outlinewidth": 0,
              "ticks": ""
             }
            },
            "type": "scattergeo"
           }
          ],
          "scattergl": [
           {
            "marker": {
             "colorbar": {
              "outlinewidth": 0,
              "ticks": ""
             }
            },
            "type": "scattergl"
           }
          ],
          "scattermapbox": [
           {
            "marker": {
             "colorbar": {
              "outlinewidth": 0,
              "ticks": ""
             }
            },
            "type": "scattermapbox"
           }
          ],
          "scatterpolar": [
           {
            "marker": {
             "colorbar": {
              "outlinewidth": 0,
              "ticks": ""
             }
            },
            "type": "scatterpolar"
           }
          ],
          "scatterpolargl": [
           {
            "marker": {
             "colorbar": {
              "outlinewidth": 0,
              "ticks": ""
             }
            },
            "type": "scatterpolargl"
           }
          ],
          "scatterternary": [
           {
            "marker": {
             "colorbar": {
              "outlinewidth": 0,
              "ticks": ""
             }
            },
            "type": "scatterternary"
           }
          ],
          "surface": [
           {
            "colorbar": {
             "outlinewidth": 0,
             "ticks": ""
            },
            "colorscale": [
             [
              0,
              "#0d0887"
             ],
             [
              0.1111111111111111,
              "#46039f"
             ],
             [
              0.2222222222222222,
              "#7201a8"
             ],
             [
              0.3333333333333333,
              "#9c179e"
             ],
             [
              0.4444444444444444,
              "#bd3786"
             ],
             [
              0.5555555555555556,
              "#d8576b"
             ],
             [
              0.6666666666666666,
              "#ed7953"
             ],
             [
              0.7777777777777778,
              "#fb9f3a"
             ],
             [
              0.8888888888888888,
              "#fdca26"
             ],
             [
              1,
              "#f0f921"
             ]
            ],
            "type": "surface"
           }
          ],
          "table": [
           {
            "cells": {
             "fill": {
              "color": "#EBF0F8"
             },
             "line": {
              "color": "white"
             }
            },
            "header": {
             "fill": {
              "color": "#C8D4E3"
             },
             "line": {
              "color": "white"
             }
            },
            "type": "table"
           }
          ]
         },
         "layout": {
          "annotationdefaults": {
           "arrowcolor": "#2a3f5f",
           "arrowhead": 0,
           "arrowwidth": 1
          },
          "coloraxis": {
           "colorbar": {
            "outlinewidth": 0,
            "ticks": ""
           }
          },
          "colorscale": {
           "diverging": [
            [
             0,
             "#8e0152"
            ],
            [
             0.1,
             "#c51b7d"
            ],
            [
             0.2,
             "#de77ae"
            ],
            [
             0.3,
             "#f1b6da"
            ],
            [
             0.4,
             "#fde0ef"
            ],
            [
             0.5,
             "#f7f7f7"
            ],
            [
             0.6,
             "#e6f5d0"
            ],
            [
             0.7,
             "#b8e186"
            ],
            [
             0.8,
             "#7fbc41"
            ],
            [
             0.9,
             "#4d9221"
            ],
            [
             1,
             "#276419"
            ]
           ],
           "sequential": [
            [
             0,
             "#0d0887"
            ],
            [
             0.1111111111111111,
             "#46039f"
            ],
            [
             0.2222222222222222,
             "#7201a8"
            ],
            [
             0.3333333333333333,
             "#9c179e"
            ],
            [
             0.4444444444444444,
             "#bd3786"
            ],
            [
             0.5555555555555556,
             "#d8576b"
            ],
            [
             0.6666666666666666,
             "#ed7953"
            ],
            [
             0.7777777777777778,
             "#fb9f3a"
            ],
            [
             0.8888888888888888,
             "#fdca26"
            ],
            [
             1,
             "#f0f921"
            ]
           ],
           "sequentialminus": [
            [
             0,
             "#0d0887"
            ],
            [
             0.1111111111111111,
             "#46039f"
            ],
            [
             0.2222222222222222,
             "#7201a8"
            ],
            [
             0.3333333333333333,
             "#9c179e"
            ],
            [
             0.4444444444444444,
             "#bd3786"
            ],
            [
             0.5555555555555556,
             "#d8576b"
            ],
            [
             0.6666666666666666,
             "#ed7953"
            ],
            [
             0.7777777777777778,
             "#fb9f3a"
            ],
            [
             0.8888888888888888,
             "#fdca26"
            ],
            [
             1,
             "#f0f921"
            ]
           ]
          },
          "colorway": [
           "#636efa",
           "#EF553B",
           "#00cc96",
           "#ab63fa",
           "#FFA15A",
           "#19d3f3",
           "#FF6692",
           "#B6E880",
           "#FF97FF",
           "#FECB52"
          ],
          "font": {
           "color": "#2a3f5f"
          },
          "geo": {
           "bgcolor": "white",
           "lakecolor": "white",
           "landcolor": "#E5ECF6",
           "showlakes": true,
           "showland": true,
           "subunitcolor": "white"
          },
          "hoverlabel": {
           "align": "left"
          },
          "hovermode": "closest",
          "mapbox": {
           "style": "light"
          },
          "paper_bgcolor": "white",
          "plot_bgcolor": "#E5ECF6",
          "polar": {
           "angularaxis": {
            "gridcolor": "white",
            "linecolor": "white",
            "ticks": ""
           },
           "bgcolor": "#E5ECF6",
           "radialaxis": {
            "gridcolor": "white",
            "linecolor": "white",
            "ticks": ""
           }
          },
          "scene": {
           "xaxis": {
            "backgroundcolor": "#E5ECF6",
            "gridcolor": "white",
            "gridwidth": 2,
            "linecolor": "white",
            "showbackground": true,
            "ticks": "",
            "zerolinecolor": "white"
           },
           "yaxis": {
            "backgroundcolor": "#E5ECF6",
            "gridcolor": "white",
            "gridwidth": 2,
            "linecolor": "white",
            "showbackground": true,
            "ticks": "",
            "zerolinecolor": "white"
           },
           "zaxis": {
            "backgroundcolor": "#E5ECF6",
            "gridcolor": "white",
            "gridwidth": 2,
            "linecolor": "white",
            "showbackground": true,
            "ticks": "",
            "zerolinecolor": "white"
           }
          },
          "shapedefaults": {
           "line": {
            "color": "#2a3f5f"
           }
          },
          "ternary": {
           "aaxis": {
            "gridcolor": "white",
            "linecolor": "white",
            "ticks": ""
           },
           "baxis": {
            "gridcolor": "white",
            "linecolor": "white",
            "ticks": ""
           },
           "bgcolor": "#E5ECF6",
           "caxis": {
            "gridcolor": "white",
            "linecolor": "white",
            "ticks": ""
           }
          },
          "title": {
           "x": 0.05
          },
          "xaxis": {
           "automargin": true,
           "gridcolor": "white",
           "linecolor": "white",
           "ticks": "",
           "title": {
            "standoff": 15
           },
           "zerolinecolor": "white",
           "zerolinewidth": 2
          },
          "yaxis": {
           "automargin": true,
           "gridcolor": "white",
           "linecolor": "white",
           "ticks": "",
           "title": {
            "standoff": 15
           },
           "zerolinecolor": "white",
           "zerolinewidth": 2
          }
         }
        },
        "width": 1000
       }
      },
      "text/html": [
       "<div>\n",
       "        \n",
       "        \n",
       "            <div id=\"90b8f9e1-3da5-4a8c-b9e4-491bb8814998\" class=\"plotly-graph-div\" style=\"height:400px; width:1000px;\"></div>\n",
       "            <script type=\"text/javascript\">\n",
       "                require([\"plotly\"], function(Plotly) {\n",
       "                    window.PLOTLYENV=window.PLOTLYENV || {};\n",
       "                    \n",
       "                if (document.getElementById(\"90b8f9e1-3da5-4a8c-b9e4-491bb8814998\")) {\n",
       "                    Plotly.newPlot(\n",
       "                        '90b8f9e1-3da5-4a8c-b9e4-491bb8814998',\n",
       "                        [{\"cells\": {\"fill\": {\"color\": [[\"white\", \"lightgrey\", \"white\", \"lightgrey\", \"white\", \"lightgrey\", \"white\", \"lightgrey\", \"white\", \"lightgrey\", \"white\", \"lightgrey\", \"white\", \"lightgrey\", \"white\", \"lightgrey\", \"white\", \"lightgrey\", \"white\", \"lightgrey\", \"white\", \"lightgrey\", \"white\", \"lightgrey\", \"white\", \"lightgrey\", \"white\", \"lightgrey\", \"white\", \"lightgrey\", \"white\", \"lightgrey\", \"white\", \"lightgrey\", \"white\", \"lightgrey\"]]}, \"line\": {\"color\": \"darkslategray\"}, \"values\": [[\"Original Dataset\", \".7\", \".65\", \".6\"], [\"$1,497\", \"$1,926\", \"$2,074\", \"$2,254\"], [\"0.00%\", \"28.72%\", \"38.55%\", \"50.64%\"], [\"$1,873,755,479\", \"$2,097,808,571\", \"$2,102,113,032\", \"$2,087,673,433\"], [\"0.00%\", \"11.96%\", \"12.19%\", \"11.42%\"], [\"0\", \"90,008\", \"140,012\", \"200,017\"], [\"$0\", \"$345,141,121\", \"$536,886,188\", \"$766,980,268\"], [\"0\", \"73,050\", \"98,239\", \"125,948\"], [\"$0\", \"$568,543,632\", \"$764,593,160\", \"$980,247,641\"]]}, \"header\": {\"fill\": {\"color\": \"grey\"}, \"font\": {\"color\": \"white\", \"size\": 12}, \"line\": {\"color\": \"darkslategray\"}, \"values\": [\"Model Threshold\", \"Profit per Loan\", \"Improvement Over Original\", \"Total Profit\", \"Improvement Over Original\", \"Loans Misclassified as Charge-off\", \"Total Un-earned Profits\", \"Loans Correctly Classified as Charge-Offs\", \"Total Losses Prevented\"]}, \"type\": \"table\"}],\n",
       "                        {\"height\": 400, \"template\": {\"data\": {\"bar\": [{\"error_x\": {\"color\": \"#2a3f5f\"}, \"error_y\": {\"color\": \"#2a3f5f\"}, \"marker\": {\"line\": {\"color\": \"#E5ECF6\", \"width\": 0.5}}, \"type\": \"bar\"}], \"barpolar\": [{\"marker\": {\"line\": {\"color\": \"#E5ECF6\", \"width\": 0.5}}, \"type\": \"barpolar\"}], \"carpet\": [{\"aaxis\": {\"endlinecolor\": \"#2a3f5f\", \"gridcolor\": \"white\", \"linecolor\": \"white\", \"minorgridcolor\": \"white\", \"startlinecolor\": \"#2a3f5f\"}, \"baxis\": {\"endlinecolor\": \"#2a3f5f\", \"gridcolor\": \"white\", \"linecolor\": \"white\", \"minorgridcolor\": \"white\", \"startlinecolor\": \"#2a3f5f\"}, \"type\": \"carpet\"}], \"choropleth\": [{\"colorbar\": {\"outlinewidth\": 0, \"ticks\": \"\"}, \"type\": \"choropleth\"}], \"contour\": [{\"colorbar\": {\"outlinewidth\": 0, \"ticks\": \"\"}, \"colorscale\": [[0.0, \"#0d0887\"], [0.1111111111111111, \"#46039f\"], [0.2222222222222222, \"#7201a8\"], [0.3333333333333333, \"#9c179e\"], [0.4444444444444444, \"#bd3786\"], [0.5555555555555556, \"#d8576b\"], [0.6666666666666666, \"#ed7953\"], [0.7777777777777778, \"#fb9f3a\"], [0.8888888888888888, \"#fdca26\"], [1.0, \"#f0f921\"]], \"type\": \"contour\"}], \"contourcarpet\": [{\"colorbar\": {\"outlinewidth\": 0, \"ticks\": \"\"}, \"type\": \"contourcarpet\"}], \"heatmap\": [{\"colorbar\": {\"outlinewidth\": 0, \"ticks\": \"\"}, \"colorscale\": [[0.0, \"#0d0887\"], [0.1111111111111111, \"#46039f\"], [0.2222222222222222, \"#7201a8\"], [0.3333333333333333, \"#9c179e\"], [0.4444444444444444, \"#bd3786\"], [0.5555555555555556, \"#d8576b\"], [0.6666666666666666, \"#ed7953\"], [0.7777777777777778, \"#fb9f3a\"], [0.8888888888888888, \"#fdca26\"], [1.0, \"#f0f921\"]], \"type\": \"heatmap\"}], \"heatmapgl\": [{\"colorbar\": {\"outlinewidth\": 0, \"ticks\": \"\"}, \"colorscale\": [[0.0, \"#0d0887\"], [0.1111111111111111, \"#46039f\"], [0.2222222222222222, \"#7201a8\"], [0.3333333333333333, \"#9c179e\"], [0.4444444444444444, \"#bd3786\"], [0.5555555555555556, \"#d8576b\"], [0.6666666666666666, \"#ed7953\"], [0.7777777777777778, \"#fb9f3a\"], [0.8888888888888888, \"#fdca26\"], [1.0, \"#f0f921\"]], \"type\": \"heatmapgl\"}], \"histogram\": [{\"marker\": {\"colorbar\": {\"outlinewidth\": 0, \"ticks\": \"\"}}, \"type\": \"histogram\"}], \"histogram2d\": [{\"colorbar\": {\"outlinewidth\": 0, \"ticks\": \"\"}, \"colorscale\": [[0.0, \"#0d0887\"], [0.1111111111111111, \"#46039f\"], [0.2222222222222222, \"#7201a8\"], [0.3333333333333333, \"#9c179e\"], [0.4444444444444444, \"#bd3786\"], [0.5555555555555556, \"#d8576b\"], [0.6666666666666666, \"#ed7953\"], [0.7777777777777778, \"#fb9f3a\"], [0.8888888888888888, \"#fdca26\"], [1.0, \"#f0f921\"]], \"type\": \"histogram2d\"}], \"histogram2dcontour\": [{\"colorbar\": {\"outlinewidth\": 0, \"ticks\": \"\"}, \"colorscale\": [[0.0, \"#0d0887\"], [0.1111111111111111, \"#46039f\"], [0.2222222222222222, \"#7201a8\"], [0.3333333333333333, \"#9c179e\"], [0.4444444444444444, \"#bd3786\"], [0.5555555555555556, \"#d8576b\"], [0.6666666666666666, \"#ed7953\"], [0.7777777777777778, \"#fb9f3a\"], [0.8888888888888888, \"#fdca26\"], [1.0, \"#f0f921\"]], \"type\": \"histogram2dcontour\"}], \"mesh3d\": [{\"colorbar\": {\"outlinewidth\": 0, \"ticks\": \"\"}, \"type\": \"mesh3d\"}], \"parcoords\": [{\"line\": {\"colorbar\": {\"outlinewidth\": 0, \"ticks\": \"\"}}, \"type\": \"parcoords\"}], \"pie\": [{\"automargin\": true, \"type\": \"pie\"}], \"scatter\": [{\"marker\": {\"colorbar\": {\"outlinewidth\": 0, \"ticks\": \"\"}}, \"type\": \"scatter\"}], \"scatter3d\": [{\"line\": {\"colorbar\": {\"outlinewidth\": 0, \"ticks\": \"\"}}, \"marker\": {\"colorbar\": {\"outlinewidth\": 0, \"ticks\": \"\"}}, \"type\": \"scatter3d\"}], \"scattercarpet\": [{\"marker\": {\"colorbar\": {\"outlinewidth\": 0, \"ticks\": \"\"}}, \"type\": \"scattercarpet\"}], \"scattergeo\": [{\"marker\": {\"colorbar\": {\"outlinewidth\": 0, \"ticks\": \"\"}}, \"type\": \"scattergeo\"}], \"scattergl\": [{\"marker\": {\"colorbar\": {\"outlinewidth\": 0, \"ticks\": \"\"}}, \"type\": \"scattergl\"}], \"scattermapbox\": [{\"marker\": {\"colorbar\": {\"outlinewidth\": 0, \"ticks\": \"\"}}, \"type\": \"scattermapbox\"}], \"scatterpolar\": [{\"marker\": {\"colorbar\": {\"outlinewidth\": 0, \"ticks\": \"\"}}, \"type\": \"scatterpolar\"}], \"scatterpolargl\": [{\"marker\": {\"colorbar\": {\"outlinewidth\": 0, \"ticks\": \"\"}}, \"type\": \"scatterpolargl\"}], \"scatterternary\": [{\"marker\": {\"colorbar\": {\"outlinewidth\": 0, \"ticks\": \"\"}}, \"type\": \"scatterternary\"}], \"surface\": [{\"colorbar\": {\"outlinewidth\": 0, \"ticks\": \"\"}, \"colorscale\": [[0.0, \"#0d0887\"], [0.1111111111111111, \"#46039f\"], [0.2222222222222222, \"#7201a8\"], [0.3333333333333333, \"#9c179e\"], [0.4444444444444444, \"#bd3786\"], [0.5555555555555556, \"#d8576b\"], [0.6666666666666666, \"#ed7953\"], [0.7777777777777778, \"#fb9f3a\"], [0.8888888888888888, \"#fdca26\"], [1.0, \"#f0f921\"]], \"type\": \"surface\"}], \"table\": [{\"cells\": {\"fill\": {\"color\": \"#EBF0F8\"}, \"line\": {\"color\": \"white\"}}, \"header\": {\"fill\": {\"color\": \"#C8D4E3\"}, \"line\": {\"color\": \"white\"}}, \"type\": \"table\"}]}, \"layout\": {\"annotationdefaults\": {\"arrowcolor\": \"#2a3f5f\", \"arrowhead\": 0, \"arrowwidth\": 1}, \"coloraxis\": {\"colorbar\": {\"outlinewidth\": 0, \"ticks\": \"\"}}, \"colorscale\": {\"diverging\": [[0, \"#8e0152\"], [0.1, \"#c51b7d\"], [0.2, \"#de77ae\"], [0.3, \"#f1b6da\"], [0.4, \"#fde0ef\"], [0.5, \"#f7f7f7\"], [0.6, \"#e6f5d0\"], [0.7, \"#b8e186\"], [0.8, \"#7fbc41\"], [0.9, \"#4d9221\"], [1, \"#276419\"]], \"sequential\": [[0.0, \"#0d0887\"], [0.1111111111111111, \"#46039f\"], [0.2222222222222222, \"#7201a8\"], [0.3333333333333333, \"#9c179e\"], [0.4444444444444444, \"#bd3786\"], [0.5555555555555556, \"#d8576b\"], [0.6666666666666666, \"#ed7953\"], [0.7777777777777778, \"#fb9f3a\"], [0.8888888888888888, \"#fdca26\"], [1.0, \"#f0f921\"]], \"sequentialminus\": [[0.0, \"#0d0887\"], [0.1111111111111111, \"#46039f\"], [0.2222222222222222, \"#7201a8\"], [0.3333333333333333, \"#9c179e\"], [0.4444444444444444, \"#bd3786\"], [0.5555555555555556, \"#d8576b\"], [0.6666666666666666, \"#ed7953\"], [0.7777777777777778, \"#fb9f3a\"], [0.8888888888888888, \"#fdca26\"], [1.0, \"#f0f921\"]]}, \"colorway\": [\"#636efa\", \"#EF553B\", \"#00cc96\", \"#ab63fa\", \"#FFA15A\", \"#19d3f3\", \"#FF6692\", \"#B6E880\", \"#FF97FF\", \"#FECB52\"], \"font\": {\"color\": \"#2a3f5f\"}, \"geo\": {\"bgcolor\": \"white\", \"lakecolor\": \"white\", \"landcolor\": \"#E5ECF6\", \"showlakes\": true, \"showland\": true, \"subunitcolor\": \"white\"}, \"hoverlabel\": {\"align\": \"left\"}, \"hovermode\": \"closest\", \"mapbox\": {\"style\": \"light\"}, \"paper_bgcolor\": \"white\", \"plot_bgcolor\": \"#E5ECF6\", \"polar\": {\"angularaxis\": {\"gridcolor\": \"white\", \"linecolor\": \"white\", \"ticks\": \"\"}, \"bgcolor\": \"#E5ECF6\", \"radialaxis\": {\"gridcolor\": \"white\", \"linecolor\": \"white\", \"ticks\": \"\"}}, \"scene\": {\"xaxis\": {\"backgroundcolor\": \"#E5ECF6\", \"gridcolor\": \"white\", \"gridwidth\": 2, \"linecolor\": \"white\", \"showbackground\": true, \"ticks\": \"\", \"zerolinecolor\": \"white\"}, \"yaxis\": {\"backgroundcolor\": \"#E5ECF6\", \"gridcolor\": \"white\", \"gridwidth\": 2, \"linecolor\": \"white\", \"showbackground\": true, \"ticks\": \"\", \"zerolinecolor\": \"white\"}, \"zaxis\": {\"backgroundcolor\": \"#E5ECF6\", \"gridcolor\": \"white\", \"gridwidth\": 2, \"linecolor\": \"white\", \"showbackground\": true, \"ticks\": \"\", \"zerolinecolor\": \"white\"}}, \"shapedefaults\": {\"line\": {\"color\": \"#2a3f5f\"}}, \"ternary\": {\"aaxis\": {\"gridcolor\": \"white\", \"linecolor\": \"white\", \"ticks\": \"\"}, \"baxis\": {\"gridcolor\": \"white\", \"linecolor\": \"white\", \"ticks\": \"\"}, \"bgcolor\": \"#E5ECF6\", \"caxis\": {\"gridcolor\": \"white\", \"linecolor\": \"white\", \"ticks\": \"\"}}, \"title\": {\"x\": 0.05}, \"xaxis\": {\"automargin\": true, \"gridcolor\": \"white\", \"linecolor\": \"white\", \"ticks\": \"\", \"title\": {\"standoff\": 15}, \"zerolinecolor\": \"white\", \"zerolinewidth\": 2}, \"yaxis\": {\"automargin\": true, \"gridcolor\": \"white\", \"linecolor\": \"white\", \"ticks\": \"\", \"title\": {\"standoff\": 15}, \"zerolinecolor\": \"white\", \"zerolinewidth\": 2}}}, \"width\": 1000},\n",
       "                        {\"responsive\": true}\n",
       "                    ).then(function(){\n",
       "                            \n",
       "var gd = document.getElementById('90b8f9e1-3da5-4a8c-b9e4-491bb8814998');\n",
       "var x = new MutationObserver(function (mutations, observer) {{\n",
       "        var display = window.getComputedStyle(gd).display;\n",
       "        if (!display || display === 'none') {{\n",
       "            console.log([gd, 'removed!']);\n",
       "            Plotly.purge(gd);\n",
       "            observer.disconnect();\n",
       "        }}\n",
       "}});\n",
       "\n",
       "// Listen for the removal of the full notebook cells\n",
       "var notebookContainer = gd.closest('#notebook-container');\n",
       "if (notebookContainer) {{\n",
       "    x.observe(notebookContainer, {childList: true});\n",
       "}}\n",
       "\n",
       "// Listen for the clearing of the current output cell\n",
       "var outputEl = gd.closest('.output');\n",
       "if (outputEl) {{\n",
       "    x.observe(outputEl, {childList: true});\n",
       "}}\n",
       "\n",
       "                        })\n",
       "                };\n",
       "                });\n",
       "            </script>\n",
       "        </div>"
      ]
     },
     "metadata": {},
     "output_type": "display_data"
    }
   ],
   "source": [
    "headerColor = 'grey'\n",
    "rowEvenColor = 'lightgrey'\n",
    "rowOddColor = 'white'\n",
    "\n",
    "fig = go.Figure(data=[go.Table(header=dict(values=['Model Threshold','Profit per Loan','Improvement Over Original','Total Profit','Improvement Over Original','Loans Misclassified as Charge-off','Total Un-earned Profits','Loans Correctly Classified as Charge-Offs','Total Losses Prevented'],\n",
    "                                              line_color='darkslategray',\n",
    "                                           fill_color=headerColor,    \n",
    "                                           font=dict(color='white', size=12)),\n",
    "                 cells=dict(values=[\n",
    "                     names,\n",
    "                     prof_per_loan,\n",
    "                     impr_per_loan,\n",
    "                     total_prof,\n",
    "                     impr_total,\n",
    "                     num_misclass,\n",
    "                     total_unearned,\n",
    "                     num_cor_class,\n",
    "                     total_saved],\n",
    "                            line_color='darkslategray',\n",
    "                            fill_color = [[rowOddColor,rowEvenColor,rowOddColor,rowEvenColor]*9],))])\n",
    "fig.update_layout(height=400, width=1000)\n",
    "fig.show()\n",
    "fig.write_image(\"threshold_table.png\")"
   ]
  }
 ],
 "metadata": {
  "kernelspec": {
   "display_name": "Python 3",
   "language": "python",
   "name": "python3"
  },
  "language_info": {
   "codemirror_mode": {
    "name": "ipython",
    "version": 3
   },
   "file_extension": ".py",
   "mimetype": "text/x-python",
   "name": "python",
   "nbconvert_exporter": "python",
   "pygments_lexer": "ipython3",
   "version": "3.8.3"
  }
 },
 "nbformat": 4,
 "nbformat_minor": 4
}
